{
 "cells": [
  {
   "cell_type": "code",
   "execution_count": 11,
   "metadata": {},
   "outputs": [],
   "source": [
    "import numpy as np\n",
    "import pandas as pd\n",
    "from sqlalchemy import create_engine\n",
    "\n"
   ]
  },
  {
   "cell_type": "code",
   "execution_count": 16,
   "metadata": {},
   "outputs": [
    {
     "name": "stdout",
     "output_type": "stream",
     "text": [
      "WTI:  (10089, 2)\n",
      "BRENT:  (9730, 2)\n"
     ]
    }
   ],
   "source": [
    "wti_path = 'assets/DCOILWTICO.csv'\n",
    "brent_path = 'assets/DCOILBRENTEU.csv'\n",
    "\n",
    "with open (wti_path) as f:\n",
    "     wti_pd = pd.read_csv(f)\n",
    "\n",
    "print(\"WTI: \", wti_pd.shape)\n",
    "\n",
    "\n",
    "with open (brent_path) as f:\n",
    "     brent_pd = pd.read_csv(f)\n",
    "\n",
    "print(\"BRENT: \", brent_pd.shape)"
   ]
  },
  {
   "cell_type": "markdown",
   "metadata": {},
   "source": [
    "Make a test like written in the below cell\n",
    "Shave off the greatest lower bound of the intersection of DF A and B."
   ]
  },
  {
   "cell_type": "code",
   "execution_count": 31,
   "metadata": {},
   "outputs": [
    {
     "name": "stdout",
     "output_type": "stream",
     "text": [
      "First Value\n",
      "         DATE DCOILWTICO\n",
      "0  1986-01-02      25.56\n",
      "         DATE DCOILBRENTEU\n",
      "0  1987-05-20        18.63\n",
      "<class 'pandas.core.frame.DataFrame'>\n",
      "0\n"
     ]
    }
   ],
   "source": [
    "print(\"First Value\")\n",
    "print(wti_pd.loc[:0])\n",
    "print(brent_pd.loc[:0])\n",
    "\n",
    "# type check\n",
    "# print(type(wti_pd))\n",
    "\n",
    "# Test would be inputting a dataframe with at least one null value and seeing what the output says\n",
    "\n",
    "def lenCheck(df_string: pd.DataFrame):\n",
    "    count = 0\n",
    "    for key in df_string.isna():\n",
    "        if key == False:\n",
    "            count += 1\n",
    "    return count\n",
    "        \n",
    "x = lenCheck(wti_pd)\n",
    "print(x)\n",
    "\n",
    "# print(out)\n",
    "# print(len(brent_pd.loc[:]))"
   ]
  },
  {
   "cell_type": "code",
   "execution_count": null,
   "metadata": {},
   "outputs": [],
   "source": [
    "\n",
    "# engine = create_engine('sqlite://', echo=False)\n",
    "# .to_sql(name=\"oil\")"
   ]
  }
 ],
 "metadata": {
  "kernelspec": {
   "display_name": "venv",
   "language": "python",
   "name": "python3"
  },
  "language_info": {
   "codemirror_mode": {
    "name": "ipython",
    "version": 3
   },
   "file_extension": ".py",
   "mimetype": "text/x-python",
   "name": "python",
   "nbconvert_exporter": "python",
   "pygments_lexer": "ipython3",
   "version": "3.12.5"
  }
 },
 "nbformat": 4,
 "nbformat_minor": 2
}
